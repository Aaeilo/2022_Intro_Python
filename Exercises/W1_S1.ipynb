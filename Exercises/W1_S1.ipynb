{
  "nbformat": 4,
  "nbformat_minor": 0,
  "metadata": {
    "colab": {
      "name": "W1_S1.ipynb",
      "provenance": [],
      "include_colab_link": true
    },
    "kernelspec": {
      "name": "python3",
      "display_name": "Python 3"
    },
    "language_info": {
      "name": "python"
    }
  },
  "cells": [
    {
      "cell_type": "markdown",
      "metadata": {
        "id": "view-in-github",
        "colab_type": "text"
      },
      "source": [
        "<a href=\"https://colab.research.google.com/github/tbeucler/2022_Intro_Python/blob/main/Exercises/W1_S1.ipynb\" target=\"_parent\"><img src=\"https://colab.research.google.com/assets/colab-badge.svg\" alt=\"Open In Colab\"/></a>"
      ]
    },
    {
      "cell_type": "markdown",
      "source": [
        "## Warm-up exercise:"
      ],
      "metadata": {
        "id": "uZDBXWVc8XX6"
      }
    },
    {
      "cell_type": "markdown",
      "source": [
        "**1. Write a while loop to display the values of the Rating of an album playlist stored in the list <code>PlayListRatings</code>. If the score is less than 6, exit the loop. The list <code>PlayListRatings</code> is given by: <code>PlayListRatings = [10, 9.5, 10, 8, 7.5, 5, 10, 10]</code>**"
      ],
      "metadata": {
        "id": "jxhHgmH8uTYf"
      }
    },
    {
      "cell_type": "code",
      "source": [
        "# Write your code here\n",
        "PlayListRating = [10, 9.5, 10, 8, 7.5, 5, 10, 10]\n",
        "\n",
        "# Hint: Use list indexing as a criteria (size of your list)\n",
        "indx = 0\n",
        "while ____<len(______________):\n",
        "  if ____________[____]<6:\n",
        "    ____\n",
        "  else:\n",
        "    print(_________[____])\n",
        "  ____+=1"
      ],
      "metadata": {
        "id": "UnkVUYJGuS0o",
        "outputId": "8f7bc4f1-8623-4609-9dcf-b2944a09c133",
        "colab": {
          "base_uri": "https://localhost:8080/"
        }
      },
      "execution_count": 3,
      "outputs": [
        {
          "output_type": "stream",
          "name": "stdout",
          "text": [
            "10\n",
            "9.5\n",
            "10\n",
            "8\n",
            "7.5\n"
          ]
        }
      ]
    },
    {
      "cell_type": "markdown",
      "source": [
        "**2. Rewrite exercise 1 with a for loop**"
      ],
      "metadata": {
        "id": "Z1MHXGivv1HZ"
      }
    },
    {
      "cell_type": "code",
      "source": [
        "for ____ in range(len(______________)):\n",
        "  if _____________[____]<6:\n",
        "    ____\n",
        "  else:\n",
        "    print(_____________[____])"
      ],
      "metadata": {
        "id": "KYktPlnXvyaZ",
        "outputId": "50b2a67b-06be-4123-d14e-3cc9674911c1",
        "colab": {
          "base_uri": "https://localhost:8080/"
        }
      },
      "execution_count": 4,
      "outputs": [
        {
          "output_type": "stream",
          "name": "stdout",
          "text": [
            "10\n",
            "9.5\n",
            "10\n",
            "8\n",
            "7.5\n"
          ]
        }
      ]
    },
    {
      "cell_type": "markdown",
      "source": [
        "**3. Write a for loop that prints out the following list: <code>squares=['red', 'yellow', 'green', 'purple', 'blue']</code>**"
      ],
      "metadata": {
        "id": "ORdNyphLwPj0"
      }
    },
    {
      "cell_type": "code",
      "source": [
        "squares = []\n",
        "for ___,___ in enumerate([_____________________]):\n",
        "  squares.____(___)\n",
        "\n",
        "print(squares)"
      ],
      "metadata": {
        "id": "dH7uOieswQ_t",
        "outputId": "098ebe1e-7216-44b6-e5e1-0372215cda3e",
        "colab": {
          "base_uri": "https://localhost:8080/"
        }
      },
      "execution_count": 6,
      "outputs": [
        {
          "output_type": "stream",
          "name": "stdout",
          "text": [
            "['red', 'yellow', 'green', 'purple', 'blue']\n"
          ]
        }
      ]
    },
    {
      "cell_type": "markdown",
      "source": [
        "## **FileIO**"
      ],
      "metadata": {
        "id": "mWax8Au0slpA"
      }
    },
    {
      "cell_type": "code",
      "execution_count": 7,
      "metadata": {
        "id": "xreaix9UpPl9"
      },
      "outputs": [],
      "source": [
        "import csv\n",
        "import netCDF4\n",
        "import pickle\n",
        "import pandas as pd\n",
        "import xarray as xr\n",
        "import numpy as np"
      ]
    },
    {
      "cell_type": "markdown",
      "source": [
        "#### Exercise (text file)\n",
        "Let use what we have just learned to write a slightly more complex file.\n",
        "1.   Create a file called \"ans.txt\"\n",
        "2.   Write the following sentence \"This is my first I/O exercise.\"\n",
        "3.   Save the file\n",
        "4.   Read the file again, add 3 more new sentences: \"I just learned that pi is approximately 3.1416\", \"Writing this to the file,\", \"is a piece of cake!\"\n",
        "\n",
        "Instruction: I don't remember the exact pi value, but I want to change the accuracy whenever I want. So please import math and get the exact pi value. And change the pi value according to the desired accuracy. \n",
        "\n",
        "How do change accuracy? Just change the integer that comes before f! :1f => 0.1, :2f => 0.11, ..."
      ],
      "metadata": {
        "id": "tvemhVDuyB2h"
      }
    },
    {
      "cell_type": "code",
      "source": [
        "import math\n",
        "# Hints: Don't remove the \\n that your TA put in the code!\n",
        "with open(________, '_', encoding=\"utf-8\") as fhandler:\n",
        "  fhandler.write('______________________\\n')\n",
        "\n",
        "with open(________, '__', encoding=\"utf-8\") as fhandler:\n",
        "  print(fhandler.readlines())\n",
        "  # Your TA wants accuracy to the fourth decimal here.\n",
        "  firstline = f'____________________________ {math.pi:._f}\\n'\n",
        "  secondline = '_____________________________\\n'\n",
        "  thirdline = '___________________________\\n'\n",
        "  fhandler.writelines([___,____,___])\n",
        "  # Go to the starting of file\n",
        "  fhandler.seek(0)\n",
        "  # Print the content of file\n",
        "  print(fhandler.readlines()) "
      ],
      "metadata": {
        "id": "5rdfnOhSyGK3",
        "outputId": "5f9c683c-6ace-4fdf-faf0-88ce4eb7dcbb",
        "colab": {
          "base_uri": "https://localhost:8080/"
        }
      },
      "execution_count": 10,
      "outputs": [
        {
          "output_type": "stream",
          "name": "stdout",
          "text": [
            "['This is my first I/O exercise.\\n']\n",
            "['This is my first I/O exercise.\\n', 'Learned that pi is approximately 3.1416\\n', 'writing this to a file,\\n', 'is a piece of cake!\\n']\n"
          ]
        }
      ]
    },
    {
      "cell_type": "markdown",
      "source": [
        "#### Exercise (tabular file)\n",
        "In the demonstration we showed you how to extract 5 rows and write them to a new CSV file. The data rows are actually surface weather observations reconrded every hour. The data span from January to August. \n",
        "\n",
        "What if we want to extract January, February, and March data and save them in smaller files separated by month?\n",
        "\n",
        "Here we provide you with some functions to extract the indices of the first and final instance of the data on a given month in the tabular data. You don't need to change anything in these functions, in this exercise you just need to save the monthly files based on the output indices."
      ],
      "metadata": {
        "id": "K6sYdxoG0kci"
      }
    },
    {
      "cell_type": "code",
      "source": [
        "import pooch\n",
        "import urllib.request\n",
        "\n",
        "#url = 'https://unils-my.sharepoint.com/:x:/g/personal/tom_beucler_unil_ch/ETDZdgCkWbZLiv_LP6HKCOAB2NP7H0tUTLlP_stknqQHGw?e=2lFo1x'\n",
        "\n",
        "datafile = pooch.retrieve('https://unils-my.sharepoint.com/:x:/g/personal/tom_beucler_unil_ch/ETDZdgCkWbZLiv_LP6HKCOAB2NP7H0tUTLlP_stknqQHGw?download=1', \n",
        "                          known_hash='c7676360997870d00a0da139c80fb1b6d26e1f96050e03f2fed75b921beb4771')"
      ],
      "metadata": {
        "id": "S_qwRRC81gUu",
        "outputId": "9fbc6565-cebc-409c-b8a4-855d20289efe",
        "colab": {
          "base_uri": "https://localhost:8080/"
        }
      },
      "execution_count": 12,
      "outputs": [
        {
          "output_type": "stream",
          "name": "stderr",
          "text": [
            "Downloading data from 'https://unils-my.sharepoint.com/:x:/g/personal/tom_beucler_unil_ch/ETDZdgCkWbZLiv_LP6HKCOAB2NP7H0tUTLlP_stknqQHGw?download=1' to file '/root/.cache/pooch/489ae79e8d80d9513daa4dc2e77ba99c-ETDZdgCkWbZLiv_LP6HKCOAB2NP7H0tUTLlP_stknqQHGw'.\n"
          ]
        }
      ]
    },
    {
      "cell_type": "code",
      "source": [
        "row = []\n",
        "with open(___________, 'r') as fh:\n",
        "  reader = csv.reader(fh)\n",
        "  for info in reader:\n",
        "    row.append(info)"
      ],
      "metadata": {
        "id": "XTGi8oph0ljb"
      },
      "execution_count": 14,
      "outputs": []
    },
    {
      "cell_type": "code",
      "source": [
        "def output_monthindices(month=None):\n",
        "  test = [rowobj[1].split(' ')[0].split('-')[1] for rowobj in row[1:]]\n",
        "  truefalse = []\n",
        "  for obj in test:\n",
        "    if obj==month:\n",
        "      truefalse.append(obj)\n",
        "    else:\n",
        "      truefalse.append(np.nan)\n",
        "  return pd.Series(truefalse).first_valid_index(),pd.Series(truefalse).last_valid_index()"
      ],
      "metadata": {
        "id": "d7zcnfqQ1r4N"
      },
      "execution_count": 15,
      "outputs": []
    },
    {
      "cell_type": "code",
      "source": [
        "Jan_index = output_monthindices(month='01')\n",
        "Feb_index = output_monthindices(month='02')\n",
        "Mar_index = output_monthindices(month='03')"
      ],
      "metadata": {
        "id": "AH_w33VM1xbT"
      },
      "execution_count": 16,
      "outputs": []
    },
    {
      "cell_type": "markdown",
      "source": [
        "Here, please write extract portion of the `row` with the monthly indices value we have. Write these extracted text to three new files: `jan.csv`,`feb.csv`,`mar.csv` in a loop."
      ],
      "metadata": {
        "id": "PfoOfmTt2UZX"
      }
    },
    {
      "cell_type": "code",
      "source": [
        "savefile = [_,_,_]\n",
        "indices = [Jan_index, Feb_index, Mar_index]\n",
        "for i in range(_):\n",
        "  with open(__, 'w') as fh:\n",
        "    writer = csv.writer(fh)\n",
        "    for ____ in range(indices[_][0],indices[_][1]):\n",
        "      writer.writerow(row[____])"
      ],
      "metadata": {
        "id": "jEqKsC902Irp"
      },
      "execution_count": null,
      "outputs": []
    },
    {
      "cell_type": "code",
      "source": [
        "#@title Answer\n",
        "savefile = ['jan.csv','feb.csv','mar.csv']\n",
        "indices = [Jan_index, Feb_index, Mar_index]\n",
        "for i in range(3):\n",
        "  with open(savefile[i], 'w') as fh:\n",
        "    writer = csv.writer(fh)\n",
        "    for num in range(indices[i][0],indices[i][1]):\n",
        "      writer.writerow(row[num])"
      ],
      "metadata": {
        "cellView": "form",
        "id": "VVSBDr4r1ztk"
      },
      "execution_count": 17,
      "outputs": []
    }
  ]
}