{
  "nbformat": 4,
  "nbformat_minor": 0,
  "metadata": {
    "colab": {
      "name": "Week1_1_Control_flow.ipynb",
      "provenance": [],
      "authorship_tag": "ABX9TyMfeW7nf/ManXDfpENNi02+",
      "include_colab_link": true
    },
    "kernelspec": {
      "name": "python3",
      "display_name": "Python 3"
    },
    "language_info": {
      "name": "python"
    }
  },
  "cells": [
    {
      "cell_type": "markdown",
      "metadata": {
        "id": "view-in-github",
        "colab_type": "text"
      },
      "source": [
        "<a href=\"https://colab.research.google.com/github/tbeucler/2022_Intro_Python/blob/main/Week1_1_Control_flow.ipynb\" target=\"_parent\"><img src=\"https://colab.research.google.com/assets/colab-badge.svg\" alt=\"Open In Colab\"/></a>"
      ]
    },
    {
      "cell_type": "markdown",
      "source": [
        "# **Control Flow**\n",
        "The first thing you need to know is that Python programms are usually executed sequentially and a code statement will not be executed again once operated.\n",
        "\n",
        "However, in real life situation you will often need to execute a snippet of codes for multiple times, or execute a portion of a code based on different conditions. We use control flow statements for these slightly more complex tasks.\n",
        "\n",
        "In this notebook, we will be covering:\n",
        "\n",
        "1. Conditional statements -- if, else, and elif\n",
        "2. Loop statements -- for, while\n",
        "3. Loop control statements -- break, continue, pass\n",
        "\n",
        "Reference:\n",
        "* IBM Congnitive Class - Intro to Python (https://github.com/computationalcore/introduction-to-python)\n",
        "* CUSP UCSL bootcamp 2017 (https://github.com/Mohitsharma44/ucsl17)"
      ],
      "metadata": {
        "id": "ViOYiy_owpke"
      }
    },
    {
      "cell_type": "markdown",
      "source": [
        "## Conditional Statements\n",
        "Here we combine relational operators, logical operators so that a program could have different information flow according to some conditions. In other words, some code snippets are executed only if some conditions are satisfied. \n",
        "\n",
        "The logic of the conditional statements is simple. `if` -> `condition met` -> do something. `if` -> `condition not met` -> do something else."
      ],
      "metadata": {
        "id": "yjvKmyhEW6xf"
      }
    },
    {
      "cell_type": "code",
      "execution_count": 1,
      "metadata": {
        "colab": {
          "base_uri": "https://localhost:8080/"
        },
        "id": "ul7qfsS4wesJ",
        "outputId": "e6af50c8-9412-4eb9-cf5c-d3de8d9083db"
      },
      "outputs": [
        {
          "output_type": "stream",
          "name": "stdout",
          "text": [
            "Positive Number\n"
          ]
        }
      ],
      "source": [
        "x = 100\n",
        "if x > 0:\n",
        "    print('Positive Number')\n",
        "elif x < 0:\n",
        "    print('Negative Number')\n",
        "else:\n",
        "    print ('Zero!')"
      ]
    },
    {
      "cell_type": "code",
      "source": [
        "# indentation is MANDATORY\n",
        "# blocks are closed by indentation level\n",
        "if x > 0:\n",
        "    print('Positive Number')\n",
        "    if x >= 100:\n",
        "        print('Huge number!')"
      ],
      "metadata": {
        "colab": {
          "base_uri": "https://localhost:8080/"
        },
        "id": "P3tETOHiYorf",
        "outputId": "d1d8473d-ad42-4b94-ceca-24cbc730bcd7"
      },
      "execution_count": 2,
      "outputs": [
        {
          "output_type": "stream",
          "name": "stdout",
          "text": [
            "Positive Number\n",
            "Huge number!\n"
          ]
        }
      ]
    },
    {
      "cell_type": "markdown",
      "source": [
        "## Loop Statements\n",
        "We use loop statements if we want to execute some code statements multiple times. An example where it would be appropriate to use loop statements:\n",
        "\n",
        "1. We have multiple data files\n",
        "2. We use a loop statements to read the files into memory iteratively.\n",
        "3. Within the loop statements, we perform the same proprocessing algorithm on the imported data\n",
        "\n",
        "In Python language, there are two main types of loop statements: `while` loop and `for` loop."
      ],
      "metadata": {
        "id": "3mynUNmNYxZP"
      }
    },
    {
      "cell_type": "code",
      "source": [
        "# use range [range(5)==[0,1,2,3,4]]\n",
        "for i in range(5):\n",
        "    print(i)"
      ],
      "metadata": {
        "colab": {
          "base_uri": "https://localhost:8080/"
        },
        "id": "plE8DL72Zf9d",
        "outputId": "2fb9e9ca-2655-4433-8104-dfa627ca4bf9"
      },
      "execution_count": 3,
      "outputs": [
        {
          "output_type": "stream",
          "name": "stdout",
          "text": [
            "0\n",
            "1\n",
            "2\n",
            "3\n",
            "4\n"
          ]
        }
      ]
    },
    {
      "cell_type": "markdown",
      "source": [
        "####**Comments:**\n",
        "Here we use the `range()` to create a sequence of numbers to drive the for loop.\n",
        "\n",
        "**range(N)** will create a list of N numbers that starts with `0`.\\\n",
        "**range(A,B)** will create a list of end-start numbers that starts with `A` and ends with `B-1`\\\n",
        "**range(A,B,step)** starts and ends with the same numbers as `range(A,B)`. The only difference is that the difference between numbers changes from `1` to `step`"
      ],
      "metadata": {
        "id": "wvcW9rLoaRCs"
      }
    },
    {
      "cell_type": "markdown",
      "source": [
        "We can also use non-numerical iterators to drive for loops"
      ],
      "metadata": {
        "id": "xantZwcwcD07"
      }
    },
    {
      "cell_type": "code",
      "source": [
        "# iterate over a list we make up, and access both the indices and elements with enumerate()\n",
        "for index,pet in enumerate(['dog', 'cat', 'fish']):\n",
        "    print(index, pet, len(pet))"
      ],
      "metadata": {
        "colab": {
          "base_uri": "https://localhost:8080/"
        },
        "id": "PmVLmHggb1Yx",
        "outputId": "474ac761-e8a2-46be-ad8a-abe81310eb66"
      },
      "execution_count": 5,
      "outputs": [
        {
          "output_type": "stream",
          "name": "stdout",
          "text": [
            "0 dog 3\n",
            "1 cat 3\n",
            "2 fish 4\n"
          ]
        }
      ]
    },
    {
      "cell_type": "markdown",
      "source": [
        "As we can see, the for loop is suitable if you want to repeat the operations in the loop for a fixed amount of times `N`. But what if you have no idea on how many times you should repeat a code snippet? This is not a trivial problem and actually often occurs in numerical optimization problems. \n",
        "\n",
        "For these problems. We will forego the for loop and use the while loop instead. The termination of a while loop is dependent on whether or not a condition remains satisfied or not. Theoretically, the loop can run forever if the condition you set is always true."
      ],
      "metadata": {
        "id": "_knPcyU-eKec"
      }
    },
    {
      "cell_type": "code",
      "source": [
        "# make a loop \n",
        "count = 0\n",
        "while count < 10:\n",
        "    # bad way\n",
        "    # count = count + 1\n",
        "    # better way\n",
        "    count += 1\n",
        "print(count)"
      ],
      "metadata": {
        "colab": {
          "base_uri": "https://localhost:8080/"
        },
        "id": "Eria_yWRgD12",
        "outputId": "f5929faf-d4f2-43d7-e6e8-c1c5e0fad720"
      },
      "execution_count": 9,
      "outputs": [
        {
          "output_type": "stream",
          "name": "stdout",
          "text": [
            "10\n"
          ]
        }
      ]
    },
    {
      "cell_type": "markdown",
      "source": [
        "####Loop control statements:\n",
        "Sometimes we want to make the loop execution to diverge from its normal behaviour. Perhaps we want to leave the loop as long as some conditions are satistied to save some processing time. Sometimes we want the loop to skip some codes if data satisfies some conditions.\n",
        "\n",
        "Two control statements are quite useful here: `break` and `continue`. We use for loop as an example."
      ],
      "metadata": {
        "id": "N9Cp7pi2cZX1"
      }
    },
    {
      "cell_type": "code",
      "source": [
        "for i in range(1, 10):\n",
        "    if i == 5:\n",
        "        print('Condition satisfied')\n",
        "        break\n",
        "    print(i)  # What would happen if this is placed before if condition?"
      ],
      "metadata": {
        "colab": {
          "base_uri": "https://localhost:8080/"
        },
        "id": "JW8Fkil0dwRt",
        "outputId": "49a1bb7d-ef3c-464c-92dc-7fecb0a391f7"
      },
      "execution_count": 6,
      "outputs": [
        {
          "output_type": "stream",
          "name": "stdout",
          "text": [
            "1\n",
            "2\n",
            "3\n",
            "4\n",
            "Condition satisfied\n"
          ]
        }
      ]
    },
    {
      "cell_type": "code",
      "source": [
        "for i in range(1, 10):\n",
        "    if i == 5:\n",
        "        print('Condition satisfied')\n",
        "        continue\n",
        "        print(\"whatever.. I won't get printed anyways.\")\n",
        "    print(i)"
      ],
      "metadata": {
        "colab": {
          "base_uri": "https://localhost:8080/"
        },
        "id": "jVciTV96d4qv",
        "outputId": "e362db0b-5b60-43ef-ec0f-07633daf3637"
      },
      "execution_count": 7,
      "outputs": [
        {
          "output_type": "stream",
          "name": "stdout",
          "text": [
            "1\n",
            "2\n",
            "3\n",
            "4\n",
            "Condition satisfied\n",
            "6\n",
            "7\n",
            "8\n",
            "9\n"
          ]
        }
      ]
    },
    {
      "cell_type": "code",
      "source": [
        "for i in range(1, 10):\n",
        "    if i == 5:\n",
        "        print('Condition satisfied')\n",
        "        pass\n",
        "    print(i)"
      ],
      "metadata": {
        "colab": {
          "base_uri": "https://localhost:8080/"
        },
        "id": "PqGGqvbKd8U4",
        "outputId": "e354fe7e-a260-451a-d3d0-9fc58ba9a169"
      },
      "execution_count": 8,
      "outputs": [
        {
          "output_type": "stream",
          "name": "stdout",
          "text": [
            "1\n",
            "2\n",
            "3\n",
            "4\n",
            "Condition satisfied\n",
            "5\n",
            "6\n",
            "7\n",
            "8\n",
            "9\n"
          ]
        }
      ]
    },
    {
      "cell_type": "markdown",
      "source": [
        "#### Exercise:\n",
        "1. Write a while loop to display the values of the Rating of an album playlist stored in the list <code>PlayListRatings</code>. If the score is less than 6, exit the loop. The list <code>PlayListRatings</code> is given by: <code>PlayListRatings = [10, 9.5, 10, 8, 7.5, 5, 10, 10]</code>\n",
        "2. Rewrite exercise 1 with a for loop\n",
        "3. Write a for loop that prints out the following list: <code>squares=['red', 'yellow', 'green', 'purple', 'blue']</code>"
      ],
      "metadata": {
        "id": "bzDirEucg3Xc"
      }
    },
    {
      "cell_type": "code",
      "source": [
        ""
      ],
      "metadata": {
        "id": "F-1O4Yslg5rB"
      },
      "execution_count": null,
      "outputs": []
    }
  ]
}