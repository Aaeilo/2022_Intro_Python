{
  "nbformat": 4,
  "nbformat_minor": 0,
  "metadata": {
    "colab": {
      "name": "Week1_0_Variables_Operators.ipynb",
      "provenance": [],
      "authorship_tag": "ABX9TyNOvZd5dtV5nTPGNpW4+VBb",
      "include_colab_link": true
    },
    "kernelspec": {
      "name": "python3",
      "display_name": "Python 3"
    },
    "language_info": {
      "name": "python"
    }
  },
  "cells": [
    {
      "cell_type": "markdown",
      "metadata": {
        "id": "view-in-github",
        "colab_type": "text"
      },
      "source": [
        "<a href=\"https://colab.research.google.com/github/tbeucler/2022_Intro_Python/blob/main/Tutorials/W1_S1_Tutorial.ipynb\" target=\"_parent\"><img src=\"https://colab.research.google.com/assets/colab-badge.svg\" alt=\"Open In Colab\"/></a>"
      ]
    },
    {
      "cell_type": "markdown",
      "source": [
        "# **Python Introduction**\n",
        "In this first notebook, we will introduce the basic building blocks of the Python language and try to execute some codes.\n",
        "\n",
        "Python has following 6 built-in Data-Types:\n",
        "</h4>\n",
        "<html>\n",
        "<head>\n",
        "<style>\n",
        "table {\n",
        "    font-family: arial, sans-serif;\n",
        "    border-collapse: collapse;\n",
        "    width: 100%;\n",
        "}\n",
        "\n",
        "td, th {\n",
        "    border: 1px solid #dddddd;\n",
        "    text-align: left;\n",
        "    padding: 8px;\n",
        "}\n",
        "\n",
        "tr:nth-child(even) {\n",
        "    background-color: #dddddd;\n",
        "}\n",
        "</style>\n",
        "</head>\n",
        "<body>\n",
        "\n",
        "<table>\n",
        "  <tr>\n",
        "    <th>Type</th>\n",
        "    <th>Description</th>\n",
        "    <th>Examples</th>\n",
        "  </tr>\n",
        "  <tr>\n",
        "    <td><strong>int</font></td>\n",
        "    <td>Integer</td>\n",
        "    <td>123</td>\n",
        "  </tr>\n",
        "  <tr>\n",
        "    <td><strong>float</font></td>\n",
        "    <td>Floating point</td>\n",
        "    <td>10.12</td>\n",
        "  </tr>\n",
        "  <tr>\n",
        "    <td><strong>complex</font></td>\n",
        "    <td>Complex values</td>\n",
        "    <td>1.0+3j</td>\n",
        "  </tr>\n",
        "  <tr>\n",
        "    <td><strong>bool</font></td>\n",
        "    <td>Boolean values</td>\n",
        "    <td>True</td>\n",
        "  </tr>\n",
        "  <tr>\n",
        "    <td><strong>string</font></td>\n",
        "    <td>String values</td>\n",
        "    <td>'Bonjour'</td>\n",
        "  </tr>\n",
        "  <tr>\n",
        "    <td><strong>NoneType</font></td>\n",
        "    <td>None value</td>\n",
        "    <td>None</td>\n",
        "  </tr>\n",
        "</table>\n",
        "\n",
        "</body>\n",
        "</html>\n",
        "\n",
        "Python has four data structures:\n",
        "</h4>\n",
        "<html>\n",
        "<head>\n",
        "<style>\n",
        "table {\n",
        "    font-family: arial, sans-serif;\n",
        "    border-collapse: collapse;\n",
        "    width: 100%;\n",
        "}\n",
        "\n",
        "td, th {\n",
        "    border: 1px solid #dddddd;\n",
        "    text-align: left;\n",
        "    padding: 8px;\n",
        "}\n",
        "\n",
        "tr:nth-child(even) {\n",
        "    background-color: #dddddd;\n",
        "}\n",
        "</style>\n",
        "</head>\n",
        "<body>\n",
        "\n",
        "<table>\n",
        "  <tr>\n",
        "    <th>Type</th>\n",
        "    <th>Description</th>\n",
        "    <th>Examples</th>\n",
        "  </tr>\n",
        "  <tr>\n",
        "    <td><strong>list</font></td>\n",
        "    <td>Ordered collection of values</td>\n",
        "    <td>[1, 'abc', 3, 1]</td>\n",
        "  </tr>\n",
        "  <tr>\n",
        "    <td><strong>set</font></td>\n",
        "    <td>Unordered collection of unique values</td>\n",
        "    <td>{1, 'abc', 3}</td>\n",
        "  </tr>\n",
        "  <tr>\n",
        "    <td><strong>tuple</font></td>\n",
        "    <td>Immutable Ordered collection</td>\n",
        "    <td>(1, 'abc', 3)</td>\n",
        "  </tr>\n",
        "</table>\n",
        "\n",
        "</body>\n",
        "</html>\n",
        "\n",
        "Reference:\n",
        "*  CUSP UCSL bootcamp 2017 (https://github.com/Mohitsharma44/ucsl17)"
      ],
      "metadata": {
        "id": "ROpnsZ9LTrgi"
      }
    },
    {
      "cell_type": "markdown",
      "source": [
        "## Basic Variables: Numbers and Strings\n",
        "The main difference between Python and languages like C++ and Fortran is that Python variables do not need explicit declaration to reserve memory space. The declaration happens automatically when a value is assigned to a variable. This means that a variable that was used to store a string can also be used to store an integer/array/list etc.\n",
        "\n",
        "**Rules of naming a variable**\n",
        "\n",
        "The start of the character can be an underscore _ or a capital or lowercase letter. However, it is generally recommended to use all uppercase for global variables and all lower case for local variables. The letters following the first letter can be a digit or a string. Python is a case-sensitive language. Therefore, **var** is not equal to **VAR** or **vAr**.\n",
        "\n",
        "Apart from the above restrictions, Python keywords cannot be used as identifier names. These are:\n",
        "\n",
        "||||||\n",
        "|:-------|:--------|:---------|:--------|:----|\n",
        "|and     |del      |from      |not      |while|\n",
        "|as      | elif    |global    |or       |with |\n",
        "|assert  | else    | if       |pass     |yield|\n",
        "|break   | except  | import   |print\n",
        "|class   | exec    | in       |raise\n",
        "|continue| finally | is       |return \n",
        "|def     | for     | lambda   |try\n",
        "\n",
        "Additionally, the following a built in functions which are always available in your namespace once you open a Python interpreter\n",
        "\n",
        "```\n",
        "abs() dict() help() min() setattr() all() dir() hex() next() slice() any()\n",
        "divmod() id() object() sorted() ascii() enumerate() input() oct() staticmethod()\n",
        "bin() eval() int() open() str() bool() exec() isinstance() ord() sum() bytearray()\n",
        "filter() issubclass() pow() super() bytes() float() iter() print() tuple()\n",
        "callable() format() len() property() type() chr() frozenset() list() range()\n",
        "vars() classmethod() getattr() locals() repr() zip() compile() globals() map()\n",
        "reversed() __import__() complex() hasattr() max() round() delattr() hash()\n",
        "memoryview() set()\n",
        "```\n"
      ],
      "metadata": {
        "id": "q0u5PHc5fK2k"
      }
    },
    {
      "cell_type": "code",
      "execution_count": null,
      "metadata": {
        "id": "nqTV-mOqQSsa"
      },
      "outputs": [],
      "source": [
        "# Basic Variables: Numbers and Strings\n",
        "# comments are anything that comes after the \"#\" symbol\n",
        "a = 1       # assign 1 to variable a\n",
        "b = \"hello\" # assign \"hello\" to variable b"
      ]
    },
    {
      "cell_type": "markdown",
      "source": [
        "All variables are objects. Every object has a type (class). To find out what type your variables are."
      ],
      "metadata": {
        "id": "GYwIJqyciBli"
      }
    },
    {
      "cell_type": "code",
      "source": [
        "print(type(a), type(b))"
      ],
      "metadata": {
        "colab": {
          "base_uri": "https://localhost:8080/"
        },
        "id": "5xe-2YUzgric",
        "outputId": "0dd0c179-39f3-42f8-8b5b-23e75967d868"
      },
      "execution_count": null,
      "outputs": [
        {
          "output_type": "stream",
          "name": "stdout",
          "text": [
            "<class 'int'> <class 'str'>\n"
          ]
        }
      ]
    },
    {
      "cell_type": "code",
      "source": [
        "# we can check for the type of an object\n",
        "print(type(a) is int)\n",
        "print(type(a) is str)"
      ],
      "metadata": {
        "colab": {
          "base_uri": "https://localhost:8080/"
        },
        "id": "xpzy-RIUg0wU",
        "outputId": "c13dcfa3-8417-456c-8328-be4c04c75a01"
      },
      "execution_count": null,
      "outputs": [
        {
          "output_type": "stream",
          "name": "stdout",
          "text": [
            "True\n",
            "False\n"
          ]
        }
      ]
    },
    {
      "cell_type": "markdown",
      "source": [
        "We can also define multiple variables simultaneously"
      ],
      "metadata": {
        "id": "6ZGZUybghlmH"
      }
    },
    {
      "cell_type": "code",
      "source": [
        "var1,var2,var3,var4 = 'Hello', 'World', 1, 2\n",
        "print(var1,var2,var3,var4)"
      ],
      "metadata": {
        "colab": {
          "base_uri": "https://localhost:8080/"
        },
        "id": "1MbbJnP-hk6V",
        "outputId": "61fe13e2-3365-4f87-b22f-9a7e38bd398c"
      },
      "execution_count": null,
      "outputs": [
        {
          "output_type": "stream",
          "name": "stdout",
          "text": [
            "Hello World 1 2\n"
          ]
        }
      ]
    },
    {
      "cell_type": "markdown",
      "source": [
        "#### **String**\n",
        "We now focus on strings a bit. We will discuss\n",
        "\n",
        "\n",
        "1.   String concatenation\n",
        "2.   String indexing\n",
        "3.   String slicing\n",
        "4.   String formatting\n",
        "5.   Built-in String Methods\n",
        "\n"
      ],
      "metadata": {
        "id": "WiPfIZv1n0fe"
      }
    },
    {
      "cell_type": "code",
      "source": [
        "# String concatenation\n",
        "text1,text2,text3,text4 = 'Introduction','to','Python','course'\n",
        "print(text1+text2+text3+text4)\n"
      ],
      "metadata": {
        "colab": {
          "base_uri": "https://localhost:8080/"
        },
        "id": "9Bg6x8DUojRy",
        "outputId": "4190b7ce-fc85-4c0d-ea45-def7c9a75934"
      },
      "execution_count": null,
      "outputs": [
        {
          "output_type": "stream",
          "name": "stdout",
          "text": [
            "IntroductiontoPythoncourse\n"
          ]
        }
      ]
    },
    {
      "cell_type": "code",
      "source": [
        "#@title #####Can you figure out a way to add spaces between the words?\n",
        "print(text1+' '+text2+' '+text3+' '+text4)"
      ],
      "metadata": {
        "colab": {
          "base_uri": "https://localhost:8080/"
        },
        "cellView": "form",
        "id": "IXUWfkMLpXcJ",
        "outputId": "ec4a49d8-0671-476b-b27a-711d91346ecc"
      },
      "execution_count": null,
      "outputs": [
        {
          "output_type": "stream",
          "name": "stdout",
          "text": [
            "Introduction to Python course\n"
          ]
        }
      ]
    },
    {
      "cell_type": "markdown",
      "source": [
        "Characters in a string can be accessed using the standard [ ] syntax. Python uses zero-based indexing which means that first character in a string will be indexed at 0th location."
      ],
      "metadata": {
        "id": "IV0h0eEip8ST"
      }
    },
    {
      "cell_type": "code",
      "source": [
        "# String indexing\n",
        "print(text1[0],text1[5],text1[-1],text1[-7])"
      ],
      "metadata": {
        "colab": {
          "base_uri": "https://localhost:8080/"
        },
        "id": "rzoIt7Uep0Qe",
        "outputId": "11212598-6f37-4070-b9d3-d9fefcc5e934"
      },
      "execution_count": null,
      "outputs": [
        {
          "output_type": "stream",
          "name": "stdout",
          "text": [
            "I d n d\n"
          ]
        }
      ]
    },
    {
      "cell_type": "code",
      "source": [
        "# String slicing\n",
        "print(text1[:5],text1[-5:],text1[:5]+text3[0:2])"
      ],
      "metadata": {
        "colab": {
          "base_uri": "https://localhost:8080/"
        },
        "id": "MhSrBBqUqKqv",
        "outputId": "6936ad07-b024-4838-af01-c02b259eeda3"
      },
      "execution_count": null,
      "outputs": [
        {
          "output_type": "stream",
          "name": "stdout",
          "text": [
            "Intro ction IntroPy\n"
          ]
        }
      ]
    },
    {
      "cell_type": "code",
      "source": [
        "# String formatting\n",
        "#f strings allow you to format data easily, but require Python >= 3.6\n",
        "print(f'The a variable has type {type(a)} and value {a}')\n",
        "print(f'The b variable has type {type(b)} and value {b}')"
      ],
      "metadata": {
        "colab": {
          "base_uri": "https://localhost:8080/"
        },
        "id": "Tcii4NhRg3uL",
        "outputId": "7d480b3f-0761-41e7-fd3b-bcf80cdf15ca"
      },
      "execution_count": null,
      "outputs": [
        {
          "output_type": "stream",
          "name": "stdout",
          "text": [
            "The a variable has type <class 'int'> and value 1\n",
            "The b variable has type <class 'str'> and value hello\n"
          ]
        }
      ]
    },
    {
      "cell_type": "markdown",
      "source": [
        "Different objects attributes and methods, which can be accessed via the syntax `variable.method`\n",
        "\n",
        "IPython will autocomplete if you press `<tab>` to show you the methods available. If you're using Google Colab, you can do the same with `<ctrl> + <space>`"
      ],
      "metadata": {
        "id": "d7UE8Y6Kmspz"
      }
    },
    {
      "cell_type": "code",
      "source": [
        "# this returns the method itself\n",
        "b.capitalize"
      ],
      "metadata": {
        "colab": {
          "base_uri": "https://localhost:8080/"
        },
        "id": "HnIkGz59mzcM",
        "outputId": "448b25fa-59cc-4f19-e34a-b6a37e6eb141"
      },
      "execution_count": null,
      "outputs": [
        {
          "output_type": "execute_result",
          "data": {
            "text/plain": [
              "<function str.capitalize>"
            ]
          },
          "metadata": {},
          "execution_count": 6
        }
      ]
    },
    {
      "cell_type": "code",
      "source": [
        "# this calls the method\n",
        "b.capitalize()\n",
        "# there are lots of other methods"
      ],
      "metadata": {
        "colab": {
          "base_uri": "https://localhost:8080/",
          "height": 37
        },
        "id": "luJnQ2vCm1pD",
        "outputId": "b89d89b3-16d2-4a55-cb81-3856def2d842"
      },
      "execution_count": null,
      "outputs": [
        {
          "output_type": "execute_result",
          "data": {
            "text/plain": [
              "'Hello'"
            ],
            "application/vnd.google.colaboratory.intrinsic+json": {
              "type": "string"
            }
          },
          "metadata": {},
          "execution_count": 7
        }
      ]
    },
    {
      "cell_type": "markdown",
      "source": [
        "#### **Math Operators**\n",
        "We now focus on using Python to perform mathematical operations."
      ],
      "metadata": {
        "id": "khmqC62KrQ_Z"
      }
    },
    {
      "cell_type": "code",
      "source": [
        "# Addition/Subtraction (Remember var3=1,var4=2)\n",
        "print(var3+var4,var3-var4)"
      ],
      "metadata": {
        "colab": {
          "base_uri": "https://localhost:8080/"
        },
        "id": "BnTneh4HrnfX",
        "outputId": "f1e28f29-267c-4d78-d090-ca4c36dfd0e1"
      },
      "execution_count": null,
      "outputs": [
        {
          "output_type": "stream",
          "name": "stdout",
          "text": [
            "3 -1\n"
          ]
        }
      ]
    },
    {
      "cell_type": "code",
      "source": [
        "# Multiplication\n",
        "print(var3*var4)"
      ],
      "metadata": {
        "colab": {
          "base_uri": "https://localhost:8080/"
        },
        "id": "pxw3lbzkrya1",
        "outputId": "f4010227-2312-48d8-ae44-7d263bf29f62"
      },
      "execution_count": null,
      "outputs": [
        {
          "output_type": "stream",
          "name": "stdout",
          "text": [
            "2\n"
          ]
        }
      ]
    },
    {
      "cell_type": "code",
      "source": [
        "# Division\n",
        "print(var3/var4,type(var3/var4))"
      ],
      "metadata": {
        "colab": {
          "base_uri": "https://localhost:8080/"
        },
        "id": "ZuTvN_pRr-oO",
        "outputId": "4b601f86-a25e-4689-dd47-0da3c17cb3d7"
      },
      "execution_count": null,
      "outputs": [
        {
          "output_type": "stream",
          "name": "stdout",
          "text": [
            "0.5 <class 'float'>\n"
          ]
        }
      ]
    },
    {
      "cell_type": "code",
      "source": [
        "# exponentiation\n",
        "print(var4**(var3+2))"
      ],
      "metadata": {
        "colab": {
          "base_uri": "https://localhost:8080/"
        },
        "id": "NzkYvpBxsHAR",
        "outputId": "86ec6c8e-7eeb-4471-ceec-a023bb1d4e93"
      },
      "execution_count": null,
      "outputs": [
        {
          "output_type": "stream",
          "name": "stdout",
          "text": [
            "8\n"
          ]
        }
      ]
    },
    {
      "cell_type": "code",
      "source": [
        "# Modulus\n",
        "7 % 2"
      ],
      "metadata": {
        "colab": {
          "base_uri": "https://localhost:8080/"
        },
        "id": "ov-S_KGnsXkS",
        "outputId": "70b732a3-94e4-4577-a034-73d8844c940b"
      },
      "execution_count": null,
      "outputs": [
        {
          "output_type": "execute_result",
          "data": {
            "text/plain": [
              "1"
            ]
          },
          "metadata": {},
          "execution_count": 26
        }
      ]
    },
    {
      "cell_type": "code",
      "source": [
        "# rounding\n",
        "round(9/10)"
      ],
      "metadata": {
        "colab": {
          "base_uri": "https://localhost:8080/"
        },
        "id": "UCxxa0ehsld7",
        "outputId": "fa433c35-a619-423a-eb44-6348c08efaf1"
      },
      "execution_count": null,
      "outputs": [
        {
          "output_type": "execute_result",
          "data": {
            "text/plain": [
              "1"
            ]
          },
          "metadata": {},
          "execution_count": 27
        }
      ]
    },
    {
      "cell_type": "markdown",
      "source": [
        "#### **Relational Operators**\n"
      ],
      "metadata": {
        "id": "vBlQ5zcoshQg"
      }
    },
    {
      "cell_type": "code",
      "source": [
        "# Equal to (==)\n",
        "a, b = 10, 10\n",
        "a==b"
      ],
      "metadata": {
        "colab": {
          "base_uri": "https://localhost:8080/"
        },
        "id": "pXShSsYSscTt",
        "outputId": "0fc6531b-f5c9-4d0d-8fc1-b19e54e998d5"
      },
      "execution_count": null,
      "outputs": [
        {
          "output_type": "execute_result",
          "data": {
            "text/plain": [
              "True"
            ]
          },
          "metadata": {},
          "execution_count": 28
        }
      ]
    },
    {
      "cell_type": "code",
      "source": [
        "# Not Equal to (!=)\n",
        "print(a!=b, 6!=2)"
      ],
      "metadata": {
        "colab": {
          "base_uri": "https://localhost:8080/"
        },
        "id": "Ce1lFwJ7suiZ",
        "outputId": "a0886d25-71d6-4fdb-db1a-9178189a3aa3"
      },
      "execution_count": null,
      "outputs": [
        {
          "output_type": "stream",
          "name": "stdout",
          "text": [
            "False True\n"
          ]
        }
      ]
    },
    {
      "cell_type": "code",
      "source": [
        "# Greater than (>) & Less than (<)\n",
        "print(6>2, 2<6)"
      ],
      "metadata": {
        "colab": {
          "base_uri": "https://localhost:8080/"
        },
        "id": "hP_bOPgss4uB",
        "outputId": "6e8a14f3-34bb-48f8-e23a-cff131894c8f"
      },
      "execution_count": null,
      "outputs": [
        {
          "output_type": "stream",
          "name": "stdout",
          "text": [
            "True True\n"
          ]
        }
      ]
    },
    {
      "cell_type": "markdown",
      "source": [
        "#### **Assignment Operators**\n"
      ],
      "metadata": {
        "id": "siTgqRs2tHa9"
      }
    },
    {
      "cell_type": "code",
      "source": [
        "# Add AND (+=) [equivalent to var=var+10]\n",
        "a = 10\n",
        "a+=10\n",
        "print(a)"
      ],
      "metadata": {
        "colab": {
          "base_uri": "https://localhost:8080/"
        },
        "id": "RJ8DGURatKOz",
        "outputId": "895c43a0-6855-4757-e6d3-307137c7557f"
      },
      "execution_count": null,
      "outputs": [
        {
          "output_type": "stream",
          "name": "stdout",
          "text": [
            "20\n"
          ]
        }
      ]
    },
    {
      "cell_type": "code",
      "source": [
        "# Multiplication AND\n",
        "a = 10\n",
        "a*=5\n",
        "print(10*5,a)"
      ],
      "metadata": {
        "colab": {
          "base_uri": "https://localhost:8080/"
        },
        "id": "pgzyagirtXQ5",
        "outputId": "c8279a8a-3c32-4d81-c408-7752830fb55e"
      },
      "execution_count": null,
      "outputs": [
        {
          "output_type": "stream",
          "name": "stdout",
          "text": [
            "50 50\n"
          ]
        }
      ]
    },
    {
      "cell_type": "markdown",
      "source": [
        "#### **Logical Operators**\n"
      ],
      "metadata": {
        "id": "MqXf1IJItyOr"
      }
    },
    {
      "cell_type": "code",
      "source": [
        "print(True and True, True and False, True or False, (not True) or (not False))"
      ],
      "metadata": {
        "colab": {
          "base_uri": "https://localhost:8080/"
        },
        "id": "EFosohSVtvY4",
        "outputId": "d63b4e26-1202-42c8-976a-4b6c56b04889"
      },
      "execution_count": null,
      "outputs": [
        {
          "output_type": "stream",
          "name": "stdout",
          "text": [
            "True False True True\n"
          ]
        }
      ]
    },
    {
      "cell_type": "code",
      "source": [
        "a, b = 'Hello','Bye'\n",
        "print(a is b, a is not b)"
      ],
      "metadata": {
        "colab": {
          "base_uri": "https://localhost:8080/"
        },
        "id": "hlYhal90uPN6",
        "outputId": "aac7701a-5e82-48ea-d078-cc1689860fdf"
      },
      "execution_count": null,
      "outputs": [
        {
          "output_type": "stream",
          "name": "stdout",
          "text": [
            "False True\n"
          ]
        }
      ]
    },
    {
      "cell_type": "markdown",
      "source": [
        "# **Control Flow**\n",
        "The first thing you need to know is that Python programms are usually executed sequentially and a code statement will not be executed again once operated.\n",
        "\n",
        "However, in real life situation you will often need to execute a snippet of codes for multiple times, or execute a portion of a code based on different conditions. We use control flow statements for these slightly more complex tasks.\n",
        "\n",
        "In this notebook, we will be covering:\n",
        "\n",
        "1. Conditional statements -- if, else, and elif\n",
        "2. Loop statements -- for, while\n",
        "3. Loop control statements -- break, continue, pass\n",
        "\n",
        "Reference:\n",
        "* IBM Congnitive Class - Intro to Python (https://github.com/computationalcore/introduction-to-python)\n",
        "* CUSP UCSL bootcamp 2017 (https://github.com/Mohitsharma44/ucsl17)"
      ],
      "metadata": {
        "id": "6cM-n3t9Iv05"
      }
    },
    {
      "cell_type": "markdown",
      "source": [
        "## Conditional Statements\n",
        "Here we combine relational operators, logical operators so that a program could have different information flow according to some conditions. In other words, some code snippets are executed only if some conditions are satisfied. \n",
        "\n",
        "The logic of the conditional statements is simple. `if` -> `condition met` -> do something. `if` -> `condition not met` -> do something else."
      ],
      "metadata": {
        "id": "p4YvSIp0Ix0e"
      }
    },
    {
      "cell_type": "code",
      "source": [
        "x = 100\n",
        "if x > 0:\n",
        "    print('Positive Number')\n",
        "elif x < 0:\n",
        "    print('Negative Number')\n",
        "else:\n",
        "    print ('Zero!')"
      ],
      "metadata": {
        "id": "vznXnjlnIzUS"
      },
      "execution_count": null,
      "outputs": []
    },
    {
      "cell_type": "code",
      "source": [
        "# indentation is MANDATORY\n",
        "# blocks are closed by indentation level\n",
        "if x > 0:\n",
        "    print('Positive Number')\n",
        "    if x >= 100:\n",
        "        print('Huge number!')"
      ],
      "metadata": {
        "id": "1NEgxM1_I0h0"
      },
      "execution_count": null,
      "outputs": []
    },
    {
      "cell_type": "markdown",
      "source": [
        "## Loop Statements\n",
        "We use loop statements if we want to execute some code statements multiple times. An example where it would be appropriate to use loop statements:\n",
        "\n",
        "1. We have multiple data files\n",
        "2. We use a loop statements to read the files into memory iteratively.\n",
        "3. Within the loop statements, we perform the same proprocessing algorithm on the imported data\n",
        "\n",
        "In Python language, there are two main types of loop statements: `while` loop and `for` loop."
      ],
      "metadata": {
        "id": "J8kioLR7I2A1"
      }
    },
    {
      "cell_type": "code",
      "source": [
        "# use range [range(5)==[0,1,2,3,4]]\n",
        "for i in range(5):\n",
        "    print(i)"
      ],
      "metadata": {
        "id": "1x4eW3wTI3Xb"
      },
      "execution_count": null,
      "outputs": []
    },
    {
      "cell_type": "markdown",
      "source": [
        "####**Comments:**\n",
        "Here we use the `range()` to create a sequence of numbers to drive the for loop.\n",
        "\n",
        "**range(N)** will create a list of N numbers that starts with `0`.\\\n",
        "**range(A,B)** will create a list of end-start numbers that starts with `A` and ends with `B-1`\\\n",
        "**range(A,B,step)** starts and ends with the same numbers as `range(A,B)`. The only difference is that the difference between numbers changes from `1` to `step`\n",
        "\n",
        "We can also use non-numerical iterators to drive for loops\n",
        "\n"
      ],
      "metadata": {
        "id": "jhOmz65iI4sk"
      }
    },
    {
      "cell_type": "code",
      "source": [
        "# iterate over a list we make up, and access both the indices and elements with enumerate()\n",
        "for index,pet in enumerate(['dog', 'cat', 'fish']):\n",
        "    print(index, pet, len(pet))"
      ],
      "metadata": {
        "id": "cyx1q1noI7p1"
      },
      "execution_count": null,
      "outputs": []
    },
    {
      "cell_type": "markdown",
      "source": [
        "As we can see, the for loop is suitable if you want to repeat the operations in the loop for a fixed amount of times `N`. But what if you have no idea on how many times you should repeat a code snippet? This is not a trivial problem and actually often occurs in numerical optimization problems. \n",
        "\n",
        "For these problems. We will forego the for loop and use the while loop instead. The termination of a while loop is dependent on whether or not a condition remains satisfied or not. Theoretically, the loop can run forever if the condition you set is always true."
      ],
      "metadata": {
        "id": "Adg6NGknJBfe"
      }
    },
    {
      "cell_type": "code",
      "source": [
        "# make a loop \n",
        "count = 0\n",
        "while count < 10:\n",
        "    # bad way\n",
        "    # count = count + 1\n",
        "    # better way\n",
        "    count += 1\n",
        "print(count)"
      ],
      "metadata": {
        "id": "xoPngHDzJDGw"
      },
      "execution_count": null,
      "outputs": []
    },
    {
      "cell_type": "markdown",
      "source": [
        "####Loop control statements:\n",
        "Sometimes we want to make the loop execution to diverge from its normal behaviour. Perhaps we want to leave the loop as long as some conditions are satistied to save some processing time. Sometimes we want the loop to skip some codes if data satisfies some conditions.\n",
        "\n",
        "Two control statements are quite useful here: `break` and `continue`. We use for loop as an example."
      ],
      "metadata": {
        "id": "6givFbV_JEl8"
      }
    },
    {
      "cell_type": "code",
      "source": [
        "for i in range(1, 10):\n",
        "    if i == 5:\n",
        "        print('Condition satisfied')\n",
        "        break\n",
        "    print(i)  # What would happen if this is placed before if condition?"
      ],
      "metadata": {
        "id": "HxkdZpJ5JKY6"
      },
      "execution_count": null,
      "outputs": []
    },
    {
      "cell_type": "code",
      "source": [
        "for i in range(1, 10):\n",
        "    if i == 5:\n",
        "        print('Condition satisfied')\n",
        "        continue\n",
        "        print(\"whatever.. I won't get printed anyways.\")\n",
        "    print(i)"
      ],
      "metadata": {
        "id": "GNHyfHzXJNlU"
      },
      "execution_count": null,
      "outputs": []
    },
    {
      "cell_type": "code",
      "source": [
        "for i in range(1, 10):\n",
        "    if i == 5:\n",
        "        print('Condition satisfied')\n",
        "        pass\n",
        "    print(i)"
      ],
      "metadata": {
        "id": "2R2fz0auJP2u"
      },
      "execution_count": null,
      "outputs": []
    }
  ]
}